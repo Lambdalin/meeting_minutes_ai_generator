{
 "cells": [
  {
   "cell_type": "code",
   "execution_count": null,
   "metadata": {},
   "outputs": [],
   "source": [
    "!git clone -b revamp \"https://github.com/Lambdalin/meeting_minutes_ai_generator.git\" minutes \n",
    "\n",
    "import os\n",
    "os.chdir(\"minutes\")"
   ]
  },
  {
   "cell_type": "code",
   "execution_count": null,
   "metadata": {},
   "outputs": [],
   "source": [
    "!curl -LsSf https://astral.sh/uv/install.sh | sh"
   ]
  },
  {
   "cell_type": "code",
   "execution_count": null,
   "metadata": {},
   "outputs": [],
   "source": [
    "%%capture\n",
    "!apt update && apt install ffmpeg\n",
    "!uv sync --no-dev"
   ]
  },
  {
   "cell_type": "code",
   "execution_count": null,
   "metadata": {},
   "outputs": [],
   "source": [
    "import os\n",
    "\n",
    "os.environ['LLM_MODEL']   = 'Qwen/Qwen3-8B-AWQ'\n",
    "os.environ['CTX_WINDOW']  = '8096'\n",
    "os.environ['ASR_MODEL']   = 'large-v3'\n",
    "os.environ['DTYPE']       = 'float16'"
   ]
  },
  {
   "cell_type": "code",
   "execution_count": null,
   "metadata": {},
   "outputs": [],
   "source": [
    "!uv run main"
   ]
  }
 ],
 "metadata": {
  "language_info": {
   "name": "python"
  }
 },
 "nbformat": 4,
 "nbformat_minor": 2
}
